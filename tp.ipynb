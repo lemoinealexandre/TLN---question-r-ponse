{
 "cells": [
  {
   "cell_type": "markdown",
   "metadata": {},
   "source": [
    "## TP1"
   ]
  },
  {
   "cell_type": "markdown",
   "metadata": {},
   "source": [
    "# Sous-tache 1a. Pre-traitement des questions"
   ]
  },
  {
   "cell_type": "markdown",
   "metadata": {},
   "source": [
    "importation des librairies"
   ]
  },
  {
   "cell_type": "code",
   "execution_count": 38,
   "metadata": {},
   "outputs": [
    {
     "name": "stdout",
     "output_type": "stream",
     "text": [
      "Requirement already satisfied: certifi in c:\\users\\lemoi\\appdata\\local\\programs\\python\\python310\\lib\\site-packages (2022.9.24)\n",
      "Note: you may need to restart the kernel to use updated packages.\n"
     ]
    },
    {
     "name": "stderr",
     "output_type": "stream",
     "text": [
      "\n",
      "[notice] A new release of pip available: 22.2.2 -> 22.3.1\n",
      "[notice] To update, run: python.exe -m pip install --upgrade pip\n"
     ]
    },
    {
     "name": "stdout",
     "output_type": "stream",
     "text": [
      "Requirement already satisfied: jellyfish in c:\\users\\lemoi\\appdata\\local\\programs\\python\\python310\\lib\\site-packages (0.9.0)Note: you may need to restart the kernel to use updated packages.\n",
      "\n"
     ]
    },
    {
     "name": "stderr",
     "output_type": "stream",
     "text": [
      "\n",
      "[notice] A new release of pip available: 22.2.2 -> 22.3.1\n",
      "[notice] To update, run: python.exe -m pip install --upgrade pip\n"
     ]
    },
    {
     "name": "stdout",
     "output_type": "stream",
     "text": [
      "Requirement already satisfied: colorama in c:\\users\\lemoi\\appdata\\local\\programs\\python\\python310\\lib\\site-packages (0.4.6)\n",
      "Note: you may need to restart the kernel to use updated packages.\n"
     ]
    },
    {
     "name": "stderr",
     "output_type": "stream",
     "text": [
      "\n",
      "[notice] A new release of pip available: 22.2.2 -> 22.3.1\n",
      "[notice] To update, run: python.exe -m pip install --upgrade pip\n"
     ]
    }
   ],
   "source": [
    "%pip install --upgrade certifi\n",
    "%pip install --upgrade jellyfish\n",
    "%pip install --upgrade colorama"
   ]
  },
  {
   "cell_type": "code",
   "execution_count": 41,
   "metadata": {},
   "outputs": [],
   "source": [
    "from __future__ import division  # Python 2 users only\n",
    "import nltk, re, pprint\n",
    "from nltk import word_tokenize\n",
    "import spacy\n",
    "import ssl\n",
    "from spacy import displacy\n",
    "from SPARQLWrapper import SPARQLWrapper, JSON\n",
    "\n"
   ]
  },
  {
   "cell_type": "code",
   "execution_count": 42,
   "metadata": {},
   "outputs": [
    {
     "name": "stderr",
     "output_type": "stream",
     "text": [
      "[nltk_data] Downloading package wordnet to\n",
      "[nltk_data]     C:\\Users\\lemoi\\AppData\\Roaming\\nltk_data...\n",
      "[nltk_data]   Package wordnet is already up-to-date!\n",
      "[nltk_data] Downloading package omw-1.4 to\n",
      "[nltk_data]     C:\\Users\\lemoi\\AppData\\Roaming\\nltk_data...\n",
      "[nltk_data]   Package omw-1.4 is already up-to-date!\n"
     ]
    },
    {
     "data": {
      "text/plain": [
       "True"
      ]
     },
     "execution_count": 42,
     "metadata": {},
     "output_type": "execute_result"
    }
   ],
   "source": [
    "nltk.download('wordnet')\n",
    "nltk.download('omw-1.4')\n"
   ]
  },
  {
   "cell_type": "code",
   "execution_count": 43,
   "metadata": {},
   "outputs": [
    {
     "name": "stdout",
     "output_type": "stream",
     "text": [
      "Collecting en-core-web-sm==3.4.1\n",
      "  Downloading https://github.com/explosion/spacy-models/releases/download/en_core_web_sm-3.4.1/en_core_web_sm-3.4.1-py3-none-any.whl (12.8 MB)\n",
      "     --------------------------------------- 12.8/12.8 MB 50.4 MB/s eta 0:00:00\n",
      "Requirement already satisfied: spacy<3.5.0,>=3.4.0 in c:\\users\\lemoi\\appdata\\local\\programs\\python\\python310\\lib\\site-packages (from en-core-web-sm==3.4.1) (3.4.3)\n",
      "Requirement already satisfied: typer<0.8.0,>=0.3.0 in c:\\users\\lemoi\\appdata\\local\\programs\\python\\python310\\lib\\site-packages (from spacy<3.5.0,>=3.4.0->en-core-web-sm==3.4.1) (0.7.0)\n",
      "Requirement already satisfied: jinja2 in c:\\users\\lemoi\\appdata\\local\\programs\\python\\python310\\lib\\site-packages (from spacy<3.5.0,>=3.4.0->en-core-web-sm==3.4.1) (3.1.2)\n",
      "Requirement already satisfied: murmurhash<1.1.0,>=0.28.0 in c:\\users\\lemoi\\appdata\\local\\programs\\python\\python310\\lib\\site-packages (from spacy<3.5.0,>=3.4.0->en-core-web-sm==3.4.1) (1.0.9)\n",
      "Requirement already satisfied: cymem<2.1.0,>=2.0.2 in c:\\users\\lemoi\\appdata\\local\\programs\\python\\python310\\lib\\site-packages (from spacy<3.5.0,>=3.4.0->en-core-web-sm==3.4.1) (2.0.7)\n",
      "Requirement already satisfied: thinc<8.2.0,>=8.1.0 in c:\\users\\lemoi\\appdata\\local\\programs\\python\\python310\\lib\\site-packages (from spacy<3.5.0,>=3.4.0->en-core-web-sm==3.4.1) (8.1.5)\n",
      "Requirement already satisfied: srsly<3.0.0,>=2.4.3 in c:\\users\\lemoi\\appdata\\local\\programs\\python\\python310\\lib\\site-packages (from spacy<3.5.0,>=3.4.0->en-core-web-sm==3.4.1) (2.4.5)\n",
      "Requirement already satisfied: setuptools in c:\\users\\lemoi\\appdata\\local\\programs\\python\\python310\\lib\\site-packages (from spacy<3.5.0,>=3.4.0->en-core-web-sm==3.4.1) (63.2.0)\n",
      "Requirement already satisfied: spacy-legacy<3.1.0,>=3.0.10 in c:\\users\\lemoi\\appdata\\local\\programs\\python\\python310\\lib\\site-packages (from spacy<3.5.0,>=3.4.0->en-core-web-sm==3.4.1) (3.0.10)\n",
      "Requirement already satisfied: spacy-loggers<2.0.0,>=1.0.0 in c:\\users\\lemoi\\appdata\\local\\programs\\python\\python310\\lib\\site-packages (from spacy<3.5.0,>=3.4.0->en-core-web-sm==3.4.1) (1.0.3)\n",
      "Requirement already satisfied: tqdm<5.0.0,>=4.38.0 in c:\\users\\lemoi\\appdata\\local\\programs\\python\\python310\\lib\\site-packages (from spacy<3.5.0,>=3.4.0->en-core-web-sm==3.4.1) (4.64.1)\n",
      "Requirement already satisfied: langcodes<4.0.0,>=3.2.0 in c:\\users\\lemoi\\appdata\\local\\programs\\python\\python310\\lib\\site-packages (from spacy<3.5.0,>=3.4.0->en-core-web-sm==3.4.1) (3.3.0)\n",
      "Requirement already satisfied: numpy>=1.15.0 in c:\\users\\lemoi\\appdata\\local\\programs\\python\\python310\\lib\\site-packages (from spacy<3.5.0,>=3.4.0->en-core-web-sm==3.4.1) (1.23.3)\n",
      "Requirement already satisfied: preshed<3.1.0,>=3.0.2 in c:\\users\\lemoi\\appdata\\local\\programs\\python\\python310\\lib\\site-packages (from spacy<3.5.0,>=3.4.0->en-core-web-sm==3.4.1) (3.0.8)\n",
      "Requirement already satisfied: requests<3.0.0,>=2.13.0 in c:\\users\\lemoi\\appdata\\local\\programs\\python\\python310\\lib\\site-packages (from spacy<3.5.0,>=3.4.0->en-core-web-sm==3.4.1) (2.28.1)\n",
      "Requirement already satisfied: packaging>=20.0 in c:\\users\\lemoi\\appdata\\local\\programs\\python\\python310\\lib\\site-packages (from spacy<3.5.0,>=3.4.0->en-core-web-sm==3.4.1) (21.3)\n",
      "Requirement already satisfied: catalogue<2.1.0,>=2.0.6 in c:\\users\\lemoi\\appdata\\local\\programs\\python\\python310\\lib\\site-packages (from spacy<3.5.0,>=3.4.0->en-core-web-sm==3.4.1) (2.0.8)\n",
      "Requirement already satisfied: wasabi<1.1.0,>=0.9.1 in c:\\users\\lemoi\\appdata\\local\\programs\\python\\python310\\lib\\site-packages (from spacy<3.5.0,>=3.4.0->en-core-web-sm==3.4.1) (0.10.1)\n",
      "Requirement already satisfied: pydantic!=1.8,!=1.8.1,<1.11.0,>=1.7.4 in c:\\users\\lemoi\\appdata\\local\\programs\\python\\python310\\lib\\site-packages (from spacy<3.5.0,>=3.4.0->en-core-web-sm==3.4.1) (1.10.2)\n",
      "Requirement already satisfied: pathy>=0.3.5 in c:\\users\\lemoi\\appdata\\local\\programs\\python\\python310\\lib\\site-packages (from spacy<3.5.0,>=3.4.0->en-core-web-sm==3.4.1) (0.6.2)\n",
      "Requirement already satisfied: pyparsing!=3.0.5,>=2.0.2 in c:\\users\\lemoi\\appdata\\local\\programs\\python\\python310\\lib\\site-packages (from packaging>=20.0->spacy<3.5.0,>=3.4.0->en-core-web-sm==3.4.1) (3.0.9)\n",
      "Requirement already satisfied: smart-open<6.0.0,>=5.2.1 in c:\\users\\lemoi\\appdata\\local\\programs\\python\\python310\\lib\\site-packages (from pathy>=0.3.5->spacy<3.5.0,>=3.4.0->en-core-web-sm==3.4.1) (5.2.1)\n",
      "Requirement already satisfied: typing-extensions>=4.1.0 in c:\\users\\lemoi\\appdata\\local\\programs\\python\\python310\\lib\\site-packages (from pydantic!=1.8,!=1.8.1,<1.11.0,>=1.7.4->spacy<3.5.0,>=3.4.0->en-core-web-sm==3.4.1) (4.3.0)\n",
      "Requirement already satisfied: idna<4,>=2.5 in c:\\users\\lemoi\\appdata\\local\\programs\\python\\python310\\lib\\site-packages (from requests<3.0.0,>=2.13.0->spacy<3.5.0,>=3.4.0->en-core-web-sm==3.4.1) (3.3)\n",
      "Requirement already satisfied: charset-normalizer<3,>=2 in c:\\users\\lemoi\\appdata\\local\\programs\\python\\python310\\lib\\site-packages (from requests<3.0.0,>=2.13.0->spacy<3.5.0,>=3.4.0->en-core-web-sm==3.4.1) (2.1.1)\n",
      "Requirement already satisfied: urllib3<1.27,>=1.21.1 in c:\\users\\lemoi\\appdata\\local\\programs\\python\\python310\\lib\\site-packages (from requests<3.0.0,>=2.13.0->spacy<3.5.0,>=3.4.0->en-core-web-sm==3.4.1) (1.26.12)\n",
      "Requirement already satisfied: certifi>=2017.4.17 in c:\\users\\lemoi\\appdata\\local\\programs\\python\\python310\\lib\\site-packages (from requests<3.0.0,>=2.13.0->spacy<3.5.0,>=3.4.0->en-core-web-sm==3.4.1) (2022.9.24)\n",
      "Requirement already satisfied: confection<1.0.0,>=0.0.1 in c:\\users\\lemoi\\appdata\\local\\programs\\python\\python310\\lib\\site-packages (from thinc<8.2.0,>=8.1.0->spacy<3.5.0,>=3.4.0->en-core-web-sm==3.4.1) (0.0.3)\n",
      "Requirement already satisfied: blis<0.8.0,>=0.7.8 in c:\\users\\lemoi\\appdata\\local\\programs\\python\\python310\\lib\\site-packages (from thinc<8.2.0,>=8.1.0->spacy<3.5.0,>=3.4.0->en-core-web-sm==3.4.1) (0.7.9)\n",
      "Requirement already satisfied: colorama in c:\\users\\lemoi\\appdata\\local\\programs\\python\\python310\\lib\\site-packages (from tqdm<5.0.0,>=4.38.0->spacy<3.5.0,>=3.4.0->en-core-web-sm==3.4.1) (0.4.6)\n",
      "Requirement already satisfied: click<9.0.0,>=7.1.1 in c:\\users\\lemoi\\appdata\\local\\programs\\python\\python310\\lib\\site-packages (from typer<0.8.0,>=0.3.0->spacy<3.5.0,>=3.4.0->en-core-web-sm==3.4.1) (8.1.3)\n",
      "Requirement already satisfied: MarkupSafe>=2.0 in c:\\users\\lemoi\\appdata\\local\\programs\\python\\python310\\lib\\site-packages (from jinja2->spacy<3.5.0,>=3.4.0->en-core-web-sm==3.4.1) (2.1.1)\n",
      "✔ Download and installation successful\n",
      "You can now load the package via spacy.load('en_core_web_sm')\n"
     ]
    },
    {
     "name": "stderr",
     "output_type": "stream",
     "text": [
      "2022-11-28 11:16:22.670577: W tensorflow/stream_executor/platform/default/dso_loader.cc:64] Could not load dynamic library 'cudart64_110.dll'; dlerror: cudart64_110.dll not found\n",
      "2022-11-28 11:16:22.670896: I tensorflow/stream_executor/cuda/cudart_stub.cc:29] Ignore above cudart dlerror if you do not have a GPU set up on your machine.\n",
      "2022-11-28 11:16:29.127281: W tensorflow/stream_executor/platform/default/dso_loader.cc:64] Could not load dynamic library 'cudart64_110.dll'; dlerror: cudart64_110.dll not found\n",
      "2022-11-28 11:16:29.128386: W tensorflow/stream_executor/platform/default/dso_loader.cc:64] Could not load dynamic library 'cublas64_11.dll'; dlerror: cublas64_11.dll not found\n",
      "2022-11-28 11:16:29.129349: W tensorflow/stream_executor/platform/default/dso_loader.cc:64] Could not load dynamic library 'cublasLt64_11.dll'; dlerror: cublasLt64_11.dll not found\n",
      "2022-11-28 11:16:29.130200: W tensorflow/stream_executor/platform/default/dso_loader.cc:64] Could not load dynamic library 'cufft64_10.dll'; dlerror: cufft64_10.dll not found\n",
      "2022-11-28 11:16:29.131039: W tensorflow/stream_executor/platform/default/dso_loader.cc:64] Could not load dynamic library 'curand64_10.dll'; dlerror: curand64_10.dll not found\n",
      "2022-11-28 11:16:29.131910: W tensorflow/stream_executor/platform/default/dso_loader.cc:64] Could not load dynamic library 'cusolver64_11.dll'; dlerror: cusolver64_11.dll not found\n",
      "2022-11-28 11:16:29.132720: W tensorflow/stream_executor/platform/default/dso_loader.cc:64] Could not load dynamic library 'cusparse64_11.dll'; dlerror: cusparse64_11.dll not found\n",
      "2022-11-28 11:16:29.133563: W tensorflow/stream_executor/platform/default/dso_loader.cc:64] Could not load dynamic library 'cudnn64_8.dll'; dlerror: cudnn64_8.dll not found\n",
      "2022-11-28 11:16:29.133879: W tensorflow/core/common_runtime/gpu/gpu_device.cc:1934] Cannot dlopen some GPU libraries. Please make sure the missing libraries mentioned above are installed properly if you would like to use GPU. Follow the guide at https://www.tensorflow.org/install/gpu for how to download and setup the required libraries for your platform.\n",
      "Skipping registering GPU devices...\n",
      "\n",
      "[notice] A new release of pip available: 22.2.2 -> 22.3.1\n",
      "[notice] To update, run: python.exe -m pip install --upgrade pip\n"
     ]
    }
   ],
   "source": [
    "!python -m spacy download en_core_web_sm\n",
    "NER = spacy.load(\"en_core_web_sm\")"
   ]
  },
  {
   "cell_type": "code",
   "execution_count": 44,
   "metadata": {},
   "outputs": [
    {
     "name": "stdout",
     "output_type": "stream",
     "text": [
      "Which river does the Brooklyn Bridge cross?\n"
     ]
    }
   ],
   "source": [
    "doc = open('questions.xml').read()\n",
    "phrase =re.search('<string lang=\"en\">(.*?)</string>', doc).group(1)\n",
    "print(phrase)"
   ]
  },
  {
   "cell_type": "code",
   "execution_count": 45,
   "metadata": {},
   "outputs": [
    {
     "name": "stdout",
     "output_type": "stream",
     "text": [
      "['Which', 'river', 'does', 'the', 'Brooklyn', 'Bridge', 'cross', '?']\n"
     ]
    }
   ],
   "source": [
    "tokens = word_tokenize(phrase)\n",
    "print(tokens)"
   ]
  },
  {
   "cell_type": "code",
   "execution_count": 46,
   "metadata": {},
   "outputs": [
    {
     "data": {
      "text/plain": [
       "[('Which', 'JJ'),\n",
       " ('river', 'NN'),\n",
       " ('does', 'VBZ'),\n",
       " ('the', 'DT'),\n",
       " ('Brooklyn', 'NNP'),\n",
       " ('Bridge', 'NNP'),\n",
       " ('cross', 'NN'),\n",
       " ('?', '.')]"
      ]
     },
     "execution_count": 46,
     "metadata": {},
     "output_type": "execute_result"
    }
   ],
   "source": [
    "nltk.pos_tag(tokens)"
   ]
  },
  {
   "cell_type": "markdown",
   "metadata": {},
   "source": [
    "# Sous-tache 1b. Identifier le type de réponse attendu"
   ]
  },
  {
   "cell_type": "code",
   "execution_count": 47,
   "metadata": {},
   "outputs": [
    {
     "name": "stdout",
     "output_type": "stream",
     "text": [
      "['Which river does the Brooklyn Bridge cross?', 'Who is the author of Wikipedia?', 'In which country does the Nile start?', 'What is the highest place of Karakoram?', 'Who designed the Brooklyn Bridge?', 'Who created Goofy?', 'Who is the mayor of New York City?', 'Which is the source of the Yenisey river', 'Which museum exhibits The Scream by Munch?', 'Which states border Illinois?', 'Who was the wife of U.S. president Lincoln?', 'In which programming language is GIMP written?', 'In which country is the Limerick Lake?', 'What is the currency of the Czech Republic?', 'Who developed the video game World of Warcraft?', 'Who founded Aldi?', 'How many employees does IBM have?', 'What is the area code of Berlin?', 'When was the Battle of Gettysburg?', 'What is the official languages of Italy?', 'Who wrote the book The Pillars of the Earth?', 'Who is the author of the WikiLeaks association?', 'Give me all actors starring in Last Action Hero.', 'Who is the owner of Universal Studios Lot?', 'Where is Bruce Carver born?']\n",
      "\n",
      "\n",
      "-------\n",
      "\n",
      "\n",
      "['PREFIX dbo: <http://dbpedia.org/ontology/> PREFIX res: <http://dbpedia.org/resource/> SELECT DISTINCT ?uri WHERE { res:Brooklyn_Bridge dbo:crosses ?uri . }', 'PREFIX dbp: <http://dbpedia.org/ontology/>PREFIX res: <http://dbpedia.org/resource/>SELECT DISTINCT ?uri WHERE {\\tres:Wikipedia dbp:authors ?uri .}', 'PREFIX dbo: <http://dbpedia.org/ontology/>PREFIX res: <http://dbpedia.org/resource/>SELECT DISTINCT ?uri WHERE {               res:Nile dbp:source2Location ?uri .}', 'PREFIX dbo: <http://dbpedia.org/ontology/>PREFIX res: <http://dbpedia.org/resource/>SELECT DISTINCT ?uri WHERE {               res:Karakoram dbo:highest ?uri .  }', 'PREFIX res: <http://dbpedia.org/resource/>PREFIX dbp: <http://dbpedia.org/property/>SELECT DISTINCT ?uri WHERE {        res:Brooklyn_Bridge dbp:designer ?uri .}', 'PREFIX dbo: <http://dbpedia.org/ontology/>PREFIX res: <http://dbpedia.org/resource/>SELECT DISTINCT ?uri WHERE {        res:Goofy dbo:creator ?uri .}', 'PREFIX dbo: <http://dbpedia.org/ontology/>PREFIX res: <http://dbpedia.org/resource/>SELECT DISTINCT ?uri WHERE {         res:New_York_City dbp:leaderName ?uri .}', 'PREFIX res: <http://dbpedia.org/resource/>PREFIX dbp: <http://dbpedia.org/property/>SELECT DISTINCT ?uri WHERE {        res:Yenisey dbp:source ?uri .}', 'PREFIX dbp: <http://dbpedia.org/property/>PREFIX res: <http://dbpedia.org/resource/>SELECT DISTINCT ?uri WHERE {\\tres:The_Scream dbp:museum ?uri .}', 'PREFIX res: <http://dbpedia.org/resource/>PREFIX dbp: <http://dbpedia.org/property/>SELECT DISTINCT ?uri WHERE {      res:Illinois dbp:borderingstates ?uri .}', 'PREFIX dbo: <http://dbpedia.org/ontology/>PREFIX res: <http://dbpedia.org/resource/>SELECT DISTINCT ?uri WHERE {\\tres:Abraham_Lincoln dbo:spouse ?uri.}', 'PREFIX dbo: <http://dbpedia.org/ontology/>PREFIX res: <http://dbpedia.org/resource/>SELECT DISTINCT ?uri WHERE { \\tres:GIMP dbo:programmingLanguage ?uri .}', 'PREFIX dbo: <http://dbpedia.org/ontology/>PREFIX res: <http://dbpedia.org/resource/>SELECT DISTINCT ?uri WHERE { \\tres:Limerick_Lake dbo:country ?uri .}', 'PREFIX dbo: <http://dbpedia.org/ontology/>PREFIX res: <http://dbpedia.org/resource/>SELECT DISTINCT ?uri WHERE {\\tres:Czech_Republic dbo:currency ?uri .}', 'PREFIX dbo: <http://dbpedia.org/ontology/>PREFIX res: <http://dbpedia.org/resource/>SELECT DISTINCT ?uri WHERE {\\tres:World_of_Warcraft dbo:developer ?uri . }', 'PREFIX res: <http://dbpedia.org/resource/>PREFIX dbo: <http://dbpedia.org/ontology/>SELECT DISTINCT ?uri WHERE {\\tres:Aldi dbo:foundedBy ?uri .}', 'PREFIX dbo: <http://dbpedia.org/ontology/>PREFIX res: <http://dbpedia.org/resource/>SELECT DISTINCT ?number WHERE {\\tres:IBM dbo:numberOfEmployees ?number .}', 'PREFIX dbo: <http://dbpedia.org/ontology/>PREFIX res: <http://dbpedia.org/resource/>SELECT DISTINCT ?string WHERE {\\tres:Berlin dbo:areaCode ?string .}', 'PREFIX dbo: <http://dbpedia.org/ontology/>PREFIX res: <http://dbpedia.org/resource/>SELECT DISTINCT ?date WHERE {        res:Battle_of_Gettysburg dbp:date ?date .}', 'PREFIX dbo: <http://dbpedia.org/ontology/>PREFIX res: <http://dbpedia.org/resource/>SELECT DISTINCT ?uri WHERE {         res:Italy dbo:officialLanguage ?uri .}', 'PREFIX dbo: <http://dbpedia.org/ontology/>PREFIX res: <http://dbpedia.org/resource/>SELECT DISTINCT ?uri WHERE {\\tres:The_Pillars_of_the_Earth dbo:author ?uri .}', 'PREFIX res: <http://dbpedia.org/resource/>PREFIX dbp: <http://dbpedia.org/property/>SELECT DISTINCT ?uri WHERE {        res:WikiLeaks dbp:awards ?uri .}', 'PREFIX dbp: <http://dbpedia.org/property/>PREFIX res: <http://dbpedia.org/resource/>SELECT DISTINCT ?uri WHERE {\\tres:Last_Action_Hero dbo:starring ?uri .}', 'PREFIX dbo: <http://dbpedia.org/ontology/>PREFIX res: <http://dbpedia.org/resource/>SELECT DISTINCT ?uri WHERE {\\tres:Universal_Studios_Lot dbo:owner ?uri .}', 'PREFIX res: <http://dbpedia.org/resource/>PREFIX dbo: <http://dbpedia.org/ontology/>SELECT DISTINCT ?uri WHERE {        res:Bruce_Carver dbo:birthPlace ?uri .     }']\n"
     ]
    }
   ],
   "source": [
    "# Récupération des données dans le document question.xml\n",
    "doc = open('questions.xml').read()\n",
    "#Récupération de toute les phrases comprises entre les balises \"<string lang=\"en\">\" et \"</string>\"\n",
    "questions = re.findall('<string lang=\"en\">(.*?)</string>', doc)\n",
    "\n",
    "newList = []\n",
    "for question in questions :\n",
    "    # Remplacement des strings <![CDATA[ et ]]> en string vide\n",
    "    if '<![CDATA[' in question:\n",
    "        question = question.replace(\"<![CDATA[\", \"\")\n",
    "        question = question.replace(\"]]>\", \"\")\n",
    "    #Ajout de chaque phrase dans le tableau\n",
    "    newList.append(question)\n",
    "# récupération de toute les phrases comprises entre les balises \"<query>\" et \"</query>\"\n",
    "questionQuery = re.findall('<query>(.*?)</query>',doc, re.DOTALL)\n",
    "questionsQuery = []\n",
    "# Remplacement de tout les strings ci-dessous par un expace vide\n",
    "for value in questionQuery:\n",
    "    if 'uri\\nWHERE' in value:\n",
    "        value = value.replace(\"uri\\nWHERE\",\"uri WHERE\")\n",
    "    if '?uri WHERE' in value:\n",
    "        value = value.replace(\"uriWHERE\",\"uri WHERE\")\n",
    "    if '\\n' in value : \n",
    "        value = value.replace(\"\\n\", \"\")\n",
    "    if '<![CDATA[' in value:\n",
    "        value = value.replace(\"<![CDATA[\", \"\")\n",
    "        value = value.replace(\"]]>\", \"\")\n",
    "    #Ajout de chaque phrase dans le tableau\n",
    "    questionsQuery.append(value)\n",
    "\n",
    "# Affichage des questions\n",
    "print(newList)\n",
    "print(\"\\n\\n-------\\n\\n\")\n",
    "# Affichage des requetes query du document question\n",
    "print(questionsQuery)"
   ]
  },
  {
   "cell_type": "code",
   "execution_count": 48,
   "metadata": {},
   "outputs": [
    {
     "name": "stdout",
     "output_type": "stream",
     "text": [
      "['Which', 'river', 'does', 'the', 'Brooklyn', 'Bridge', 'cross', '?'] ['Who', 'is', 'the', 'author', 'of', 'Wikipedia', '?'] ['In', 'which', 'country', 'does', 'the', 'Nile', 'start', '?'] ['What', 'is', 'the', 'highest', 'place', 'of', 'Karakoram', '?'] ['Who', 'designed', 'the', 'Brooklyn', 'Bridge', '?'] ['Who', 'created', 'Goofy', '?'] ['Who', 'is', 'the', 'mayor', 'of', 'New', 'York', 'City', '?'] ['Which', 'is', 'the', 'source', 'of', 'the', 'Yenisey', 'river'] ['Which', 'museum', 'exhibits', 'The', 'Scream', 'by', 'Munch', '?'] ['Which', 'states', 'border', 'Illinois', '?'] ['Who', 'was', 'the', 'wife', 'of', 'U.S.', 'president', 'Lincoln', '?'] ['In', 'which', 'programming', 'language', 'is', 'GIMP', 'written', '?'] ['In', 'which', 'country', 'is', 'the', 'Limerick', 'Lake', '?'] ['What', 'is', 'the', 'currency', 'of', 'the', 'Czech', 'Republic', '?'] ['Who', 'developed', 'the', 'video', 'game', 'World', 'of', 'Warcraft', '?'] ['Who', 'founded', 'Aldi', '?'] ['How', 'many', 'employees', 'does', 'IBM', 'have', '?'] ['What', 'is', 'the', 'area', 'code', 'of', 'Berlin', '?'] ['When', 'was', 'the', 'Battle', 'of', 'Gettysburg', '?'] ['What', 'is', 'the', 'official', 'languages', 'of', 'Italy', '?'] ['Who', 'wrote', 'the', 'book', 'The', 'Pillars', 'of', 'the', 'Earth', '?'] ['Who', 'is', 'the', 'author', 'of', 'the', 'WikiLeaks', 'association', '?'] ['Give', 'me', 'all', 'actors', 'starring', 'in', 'Last', 'Action', 'Hero', '.'] ['Who', 'is', 'the', 'owner', 'of', 'Universal', 'Studios', 'Lot', '?'] ['Where', 'is', 'Bruce', 'Carver', 'born', '?']\n"
     ]
    }
   ],
   "source": [
    "# Séparation de tout les mots de chaque phrase \n",
    "tokens = [word_tokenize(x) for x in newList]\n",
    "print(*tokens)"
   ]
  },
  {
   "cell_type": "code",
   "execution_count": 49,
   "metadata": {},
   "outputs": [
    {
     "name": "stdout",
     "output_type": "stream",
     "text": [
      "[('Which', 'JJ'), ('river', 'NN'), ('does', 'VBZ'), ('the', 'DT'), ('Brooklyn', 'NNP'), ('Bridge', 'NNP'), ('cross', 'NN'), ('?', '.')]\n",
      "[('Who', 'WP'), ('is', 'VBZ'), ('the', 'DT'), ('author', 'NN'), ('of', 'IN'), ('Wikipedia', 'NNP'), ('?', '.')]\n",
      "[('In', 'IN'), ('which', 'WDT'), ('country', 'NN'), ('does', 'VBZ'), ('the', 'DT'), ('Nile', 'NNP'), ('start', 'NN'), ('?', '.')]\n",
      "[('What', 'WP'), ('is', 'VBZ'), ('the', 'DT'), ('highest', 'JJS'), ('place', 'NN'), ('of', 'IN'), ('Karakoram', 'NNP'), ('?', '.')]\n",
      "[('Who', 'WP'), ('designed', 'VBD'), ('the', 'DT'), ('Brooklyn', 'NNP'), ('Bridge', 'NNP'), ('?', '.')]\n",
      "[('Who', 'WP'), ('created', 'VBD'), ('Goofy', 'NNP'), ('?', '.')]\n",
      "[('Who', 'WP'), ('is', 'VBZ'), ('the', 'DT'), ('mayor', 'NN'), ('of', 'IN'), ('New', 'NNP'), ('York', 'NNP'), ('City', 'NNP'), ('?', '.')]\n",
      "[('Which', 'WDT'), ('is', 'VBZ'), ('the', 'DT'), ('source', 'NN'), ('of', 'IN'), ('the', 'DT'), ('Yenisey', 'NNP'), ('river', 'NN')]\n",
      "[('Which', 'NNP'), ('museum', 'NN'), ('exhibits', 'VBZ'), ('The', 'DT'), ('Scream', 'NN'), ('by', 'IN'), ('Munch', 'NNP'), ('?', '.')]\n",
      "[('Which', 'WDT'), ('states', 'VBZ'), ('border', 'NN'), ('Illinois', 'NNP'), ('?', '.')]\n",
      "[('Who', 'WP'), ('was', 'VBD'), ('the', 'DT'), ('wife', 'NN'), ('of', 'IN'), ('U.S.', 'NNP'), ('president', 'NN'), ('Lincoln', 'NNP'), ('?', '.')]\n",
      "[('In', 'IN'), ('which', 'WDT'), ('programming', 'VBG'), ('language', 'NN'), ('is', 'VBZ'), ('GIMP', 'NNP'), ('written', 'VBN'), ('?', '.')]\n",
      "[('In', 'IN'), ('which', 'WDT'), ('country', 'NN'), ('is', 'VBZ'), ('the', 'DT'), ('Limerick', 'NNP'), ('Lake', 'NNP'), ('?', '.')]\n",
      "[('What', 'WP'), ('is', 'VBZ'), ('the', 'DT'), ('currency', 'NN'), ('of', 'IN'), ('the', 'DT'), ('Czech', 'NNP'), ('Republic', 'NNP'), ('?', '.')]\n",
      "[('Who', 'WP'), ('developed', 'VBD'), ('the', 'DT'), ('video', 'NN'), ('game', 'NN'), ('World', 'NNP'), ('of', 'IN'), ('Warcraft', 'NNP'), ('?', '.')]\n",
      "[('Who', 'WP'), ('founded', 'VBD'), ('Aldi', 'NNP'), ('?', '.')]\n",
      "[('How', 'WRB'), ('many', 'JJ'), ('employees', 'NNS'), ('does', 'VBZ'), ('IBM', 'NNP'), ('have', 'VB'), ('?', '.')]\n",
      "[('What', 'WP'), ('is', 'VBZ'), ('the', 'DT'), ('area', 'NN'), ('code', 'NN'), ('of', 'IN'), ('Berlin', 'NNP'), ('?', '.')]\n",
      "[('When', 'WRB'), ('was', 'VBD'), ('the', 'DT'), ('Battle', 'NNP'), ('of', 'IN'), ('Gettysburg', 'NNP'), ('?', '.')]\n",
      "[('What', 'WP'), ('is', 'VBZ'), ('the', 'DT'), ('official', 'JJ'), ('languages', 'NNS'), ('of', 'IN'), ('Italy', 'NNP'), ('?', '.')]\n",
      "[('Who', 'WP'), ('wrote', 'VBD'), ('the', 'DT'), ('book', 'NN'), ('The', 'DT'), ('Pillars', 'NNP'), ('of', 'IN'), ('the', 'DT'), ('Earth', 'NNP'), ('?', '.')]\n",
      "[('Who', 'WP'), ('is', 'VBZ'), ('the', 'DT'), ('author', 'NN'), ('of', 'IN'), ('the', 'DT'), ('WikiLeaks', 'NNP'), ('association', 'NN'), ('?', '.')]\n",
      "[('Give', 'VB'), ('me', 'PRP'), ('all', 'DT'), ('actors', 'NNS'), ('starring', 'VBG'), ('in', 'IN'), ('Last', 'JJ'), ('Action', 'NNP'), ('Hero', 'NNP'), ('.', '.')]\n",
      "[('Who', 'WP'), ('is', 'VBZ'), ('the', 'DT'), ('owner', 'NN'), ('of', 'IN'), ('Universal', 'NNP'), ('Studios', 'NNP'), ('Lot', 'NNP'), ('?', '.')]\n",
      "[('Where', 'WRB'), ('is', 'VBZ'), ('Bruce', 'NNP'), ('Carver', 'NNP'), ('born', 'VBN'), ('?', '.')]\n"
     ]
    }
   ],
   "source": [
    "tag= []\n",
    "# Ajout des tag de type de mot apres chaque mot pour les identifier\n",
    "for token in tokens :\n",
    "    print(nltk.pos_tag(token))"
   ]
  },
  {
   "cell_type": "code",
   "execution_count": 50,
   "metadata": {},
   "outputs": [],
   "source": [
    "# la méthode identifier permet d'identifier quelle type de question est posé (where, what, how ...)\n",
    "def identifier(str):\n",
    "    if(re.search(\"When\",str, re.IGNORECASE)):\n",
    "        return \"When\"\n",
    "    elif(re.search(\"Who\",str, re.IGNORECASE)):\n",
    "        return \"Who\"\n",
    "    elif(re.search(\"Where\",str, re.IGNORECASE)):\n",
    "        return \"Where\"\n",
    "    elif(re.search(\"What\",str, re.IGNORECASE)):\n",
    "        return \"What\"\n",
    "    elif(re.search(\"How\",str, re.IGNORECASE)):\n",
    "        return \"How\"\n",
    "    elif(re.search(\"In which\",str, re.IGNORECASE)):\n",
    "        return \"Where\"\n",
    "    elif(re.search(\"Which\",str, re.IGNORECASE)):\n",
    "        return \"What\"\n"
   ]
  },
  {
   "cell_type": "code",
   "execution_count": 51,
   "metadata": {},
   "outputs": [],
   "source": [
    "# npp_old est une méthode de récupération des entités de la base mentionné dans la question\n",
    "def nnp_old(str):\n",
    "    val = []\n",
    "    tokens = nltk.word_tokenize(str)\n",
    "    # J'utilise les tokens pour identifier les mots NNP et je récupere tout les mot qui se trouve entre 2 NPP (The Pillars of the Earth)\n",
    "    for (word, tag) in nltk.pos_tag(tokens):\n",
    "        if re.search(\"NNP\", tag):\n",
    "            val.append(word)\n",
    "\n",
    "    lengthWord = len(val)\n",
    "    if lengthWord == 1 :\n",
    "        value = val[0]\n",
    "    else:\n",
    "        # Suppréssion des espaces par des _\n",
    "        value = re.findall(val[0]+ '.*?' + val[lengthWord-1], str)    \n",
    "        value = \"_\".join(value).replace(' ', '_') \n",
    "    \n",
    "    return value\n"
   ]
  },
  {
   "cell_type": "code",
   "execution_count": 52,
   "metadata": {},
   "outputs": [
    {
     "name": "stdout",
     "output_type": "stream",
     "text": [
      "Brooklyn Bridge\n",
      "Wikipedia\n",
      "Nile\n",
      "Karakoram\n",
      "the Brooklyn Bridge\n",
      "Goofy\n",
      "New York City\n",
      "Yenisey\n",
      "Munch\n",
      "Illinois\n",
      "U.S.\n",
      "None\n",
      "the Limerick Lake\n",
      "the Czech Republic\n",
      "World of Warcraft\n",
      "Aldi\n",
      "IBM\n",
      "Berlin\n",
      "Gettysburg\n",
      "Italy\n",
      "The Pillars of the Earth\n",
      "WikiLeaks\n",
      "None\n",
      "Universal Studios Lot\n",
      "Bruce Carver\n"
     ]
    }
   ],
   "source": [
    "# nnp a le meme but que nnp_old mais apres plus test elle à des résulstats inférieur a nnp_old\n",
    "# elle utilise néanmoins la librairie spacy qui repere tout seule les entité mais pas très fiable dans notre cas\n",
    "def nnp(str):\n",
    "    text = NER(str)\n",
    "    for word in text.ents:\n",
    "        return word.text\n",
    "\n",
    "for list in newList:\n",
    "    val = nnp(list)\n",
    "    print(val)"
   ]
  },
  {
   "cell_type": "code",
   "execution_count": 53,
   "metadata": {},
   "outputs": [],
   "source": [
    "#Cette méthode permet de récuperer toute les relations se trouvant dans le fichier relation.txt\n",
    "# elle sépare dans un tableau à double dimension le type de relation et la relation\n",
    "def extract_relations(path):\n",
    "    f_read = open(f'{path}.txt', 'r').read()\n",
    "    def get(pattern, array):\n",
    "        res = re.findall(pattern, array)\n",
    "        return [value.strip() for value in res]\n",
    "    def typage(type, value):\n",
    "        return (type, value.strip())\n",
    "    relation_DBO = get('dbo:(.+?)\\n', f_read)\n",
    "    relation_DBP = get('dbp:(.+?)\\n', f_read)\n",
    "    res = [typage('dbo', value) for value in relation_DBO] + \\\n",
    "        [typage('dbp', value) for value in relation_DBP]\n",
    "    return res"
   ]
  },
  {
   "cell_type": "code",
   "execution_count": 54,
   "metadata": {},
   "outputs": [
    {
     "name": "stdout",
     "output_type": "stream",
     "text": [
      "[('dbo', 'album'), ('dbo', 'areaCode'), ('dbo', 'battle'), ('dbo', 'birthDate'), ('dbo', 'birthPlace'), ('dbo', 'capital'), ('dbo', 'child'), ('dbo', 'city'), ('dbo', 'country'), ('dbo', 'creator'), ('dbo', 'crosses'), ('dbo', 'currency'), ('dbo', 'deathCause'), ('dbo', 'deathDate'), ('dbo', 'deathPlace'), ('dbo', 'developer'), ('dbo', 'director'), ('dbo', 'elevation'), ('dbo', 'formationYear'), ('dbo', 'foundedBy'), ('dbo', 'foundationPlace'), ('dbo', 'foundingYear'), ('dbo', 'genre'), ('dbo', 'governmentType'), ('dbo', 'ground'), ('dbo', 'height'), ('dbo', 'highest'), ('dbo', 'isPartOf'), ('dbo', 'keyPerson'), ('dbo', 'language'), ('dbo', 'largestCity'), ('dbo', 'league'), ('dbo', 'locatedInArea'), ('dbo', 'location'), ('dbo', 'numberOfEmployees'), ('dbo', 'officialLanguage'), ('dbo', 'operator'), ('dbo', 'orderInOffice'), ('dbo', 'owner'), ('dbo', 'producer'), ('dbo', 'programmingLanguage'), ('dbo', 'publisher'), ('dbo', 'seasonNumber'), ('dbo', 'series'), ('dbo', 'spokenIn'), ('dbo', 'spouse'), ('dbo', 'starring'), ('dbp', 'authors'), ('dbp', 'date'), ('dbp', 'leaderName'), ('dbp', 'source'), ('dbp', 'source2Location'), ('dbp', 'awards'), ('dbp', 'borderingstates'), ('dbp', 'country'), ('dbp', 'museum'), ('dbp', 'starring'), ('dbp', 'designer')]\n"
     ]
    }
   ],
   "source": [
    "# initialisation de la variable relations avec toute les relations\n",
    "relations = extract_relations(\"relations\")\n",
    "print(relations)"
   ]
  },
  {
   "cell_type": "code",
   "execution_count": 55,
   "metadata": {},
   "outputs": [],
   "source": [
    "# Récupération de tout les synonymes de chaque relation via le package nltk.corpus\n",
    "from nltk.corpus import wordnet\n",
    "d = {}\n",
    "\n",
    "synonymes = []\n",
    "for type, value in relations :\n",
    "    if len(wordnet.synsets(value)) > 0 :\n",
    "        synonymes.append(wordnet.synsets(value))\n",
    "        d[(type,value)] = wordnet.synsets(value)\n",
    "\n",
    "\n"
   ]
  },
  {
   "cell_type": "code",
   "execution_count": 56,
   "metadata": {},
   "outputs": [],
   "source": [
    "# méthode de calcul de la distance de chaque mot d'une phrase avec tout les synonyme des relations.\n",
    "#la méthode retourne donc la relation la plus approprié par rapport a notre phrase. Mais dans notre cas il y a mieux et plus facile a mettre en place\n",
    "def getDistance(question):\n",
    "    maxSimilarity = 0\n",
    "    synonymeSimilarity = ''\n",
    "    wordSimilarity = ''\n",
    "    \n",
    "    for wordSentence in question:   \n",
    "        if len(wordnet.synsets(wordSentence)) > 0 :\n",
    "            for key, syn in d.items() :\n",
    "                if len(syn) > 0 :\n",
    "                    for s in syn :\n",
    "                        #print(wordnet.synsets(wordSentence))\n",
    "                        similarity = s.path_similarity(wordnet.synsets(wordSentence)[0])\n",
    "                        if similarity > maxSimilarity :\n",
    "                            maxSimilarity = similarity\n",
    "                            synonymeSimilarity = s\n",
    "                            wordSimilarity = wordSentence\n",
    "                            relation = key\n",
    "                else :\n",
    "                    similarity = syn.path_similarity(wordnet.synsets(wordSentence))\n",
    "                    if similarity > maxSimilarity :\n",
    "                        maxSimilarity = similarity\n",
    "                        synonymeSimilarity = syn\n",
    "                        wordSimilarity = wordSentence\n",
    "                        relation = key\n",
    "                \n",
    "\n",
    "\n",
    "\n",
    "    (type, relation) =  relation\n",
    "\n",
    "    res = type+\":\"+relation\n",
    "    return res\n",
    "\n",
    "\n",
    "\n"
   ]
  },
  {
   "cell_type": "code",
   "execution_count": 57,
   "metadata": {},
   "outputs": [],
   "source": [
    "# dis et la méthode qui nous a permis de répondre au plus de question possible. mieux que nltk.distance qui était bloqué avec un string de meme taille\n",
    "# jellyfish permet de comparer 2 string de taille différente. Dans notre cas je compare juste chaque mot des questions sur chaque mot des relations et\n",
    "# je récupère la relations la plus haute \n",
    "import jellyfish\n",
    "def dis(questions):\n",
    "    bestVal =0\n",
    "    val = 0\n",
    "    key =''\n",
    "    word = ''\n",
    "    for wordSentence in questions: \n",
    "        for type,relation in relations:            \n",
    "            val = jellyfish.jaro_distance(str(wordSentence),str(relation))\n",
    "            if(val > bestVal):\n",
    "                bestVal = val\n",
    "                key = type\n",
    "                word=relation\n",
    "    res = key+':'+word\n",
    "    return res\n",
    "            \n"
   ]
  },
  {
   "cell_type": "code",
   "execution_count": 58,
   "metadata": {},
   "outputs": [],
   "source": [
    "NER = spacy.load(\"en_core_web_sm\")\n"
   ]
  },
  {
   "cell_type": "code",
   "execution_count": 75,
   "metadata": {},
   "outputs": [],
   "source": [
    "listeResponseQuestionXML = []\n",
    "sparql = SPARQLWrapper(\"http://dbpedia.org/sparql\")\n",
    "\n",
    "# Méthode qui permet de faire appel à l'api DBPedia et de récuperer les réponses.    \n",
    "def getResponseQuestionXML(quest) :\n",
    "    sparql.setQuery(quest)\n",
    "    sparql.setReturnFormat(JSON)\n",
    "\n",
    "    try:\n",
    "        listResponseQuestionXML = []\n",
    "        ret = sparql.queryAndConvert()\n",
    "        print(r[\"uri\"][\"value\"])\n",
    "        for r in ret[\"results\"][\"bindings\"]:\n",
    "            if(len(r[\"uri\"][\"value\"]) > 1) :\n",
    "                listResponseQuestionXML.append(r[\"uri\"][\"value\"])\n",
    "    except Exception as e:\n",
    "        print(e)\n",
    "    return listResponseQuestionXML"
   ]
  },
  {
   "cell_type": "code",
   "execution_count": 85,
   "metadata": {},
   "outputs": [],
   "source": [
    "listeResponseQuestionXML = []\n",
    " # méthode qui permet d'envoyer et de récuperer la réponse de chaque question sur l'api DBPedia   \n",
    "def getResponseXML(request) :\n",
    "    sparql.setQuery(request)\n",
    "\n",
    "    sparql.setReturnFormat(JSON)\n",
    "    results = sparql.query()\n",
    "    #response = results.response.read()\n",
    "\n",
    "    try:\n",
    "        listResponseQuestion = []\n",
    "        ret = sparql.queryAndConvert()\n",
    "        for r in ret[\"results\"][\"bindings\"]:\n",
    "            if(len(r[\"uri\"][\"value\"]) > 1) :\n",
    "                listResponseQuestion.append(r[\"uri\"][\"value\"])\n",
    "    except Exception as e:\n",
    "        print(e)\n",
    "    return listResponseQuestion"
   ]
  },
  {
   "cell_type": "code",
   "execution_count": 86,
   "metadata": {},
   "outputs": [
    {
     "name": "stdout",
     "output_type": "stream",
     "text": [
      "'uri'\n",
      "'uri'\n",
      "'uri'\n",
      "[['http://dbpedia.org/resource/East_River'], [], ['http://dbpedia.org/resource/Ethiopia', 'http://dbpedia.org/resource/Lake_Tana'], ['http://dbpedia.org/resource/K2'], ['http://dbpedia.org/resource/John_Augustus_Roebling'], ['http://dbpedia.org/resource/Bob_Ogle', 'http://dbpedia.org/resource/Paul_Murry'], ['Eric Adams'], ['http://dbpedia.org/resource/Ka-Hem', 'The most distant source: Yenisey-Angara-Selenga-Ider system'], ['National Gallery and Munch Museum'], ['http://dbpedia.org/resource/Kentucky', 'http://dbpedia.org/resource/Iowa', 'http://dbpedia.org/resource/Missouri', 'http://dbpedia.org/resource/Wisconsin', 'http://dbpedia.org/resource/Indiana'], ['http://dbpedia.org/resource/Mary_Todd_Lincoln'], ['http://dbpedia.org/resource/C_(programming_language)'], ['http://dbpedia.org/resource/Canada'], ['http://dbpedia.org/resource/Czech_koruna'], ['http://dbpedia.org/resource/Blizzard_Entertainment'], ['http://dbpedia.org/resource/Theo_Albrecht', 'http://dbpedia.org/resource/Karl_Albrecht'], [], [], [], ['http://dbpedia.org/resource/Italian_language'], ['http://dbpedia.org/resource/Ken_Follett'], [], ['http://dbpedia.org/resource/Art_Carney', \"http://dbpedia.org/resource/Austin_O'Brien\", 'http://dbpedia.org/resource/Frank_McRae', 'http://dbpedia.org/resource/Anthony_Quinn', 'http://dbpedia.org/resource/Arnold_Schwarzenegger', 'http://dbpedia.org/resource/Mercedes_Ruehl', 'http://dbpedia.org/resource/Charles_Dance', 'http://dbpedia.org/resource/Robert_Prosky', 'http://dbpedia.org/resource/F._Murray_Abraham', 'http://dbpedia.org/resource/Tom_Noonan'], ['http://dbpedia.org/resource/Universal_Pictures', 'http://dbpedia.org/resource/Comcast', 'http://dbpedia.org/resource/NBCUniversal'], ['http://dbpedia.org/resource/Montpelier,_Idaho']]\n"
     ]
    }
   ],
   "source": [
    "# On passe en parametre chaque query du fichier question.xml est on stocke les résultats de chaque question\n",
    "for val in questionsQuery:\n",
    "    listeResponseQuestionXML.append(getResponseXML(val))\n",
    "\n",
    "print(listeResponseQuestionXML)"
   ]
  },
  {
   "cell_type": "code",
   "execution_count": 87,
   "metadata": {},
   "outputs": [],
   "source": [
    "sparql = SPARQLWrapper(\"http://dbpedia.org/sparql\")\n",
    "\n",
    "# Méthode de création pour nos query qui va permettre de répondre au question du fichier question.xml\n",
    "def createQuery(question):\n",
    "    # Mise en forme de la requete query\n",
    "    query = \"\"\"\n",
    "    PREFIX XXXX\n",
    "    PREFIX res: <http://dbpedia.org/resource/>\n",
    "    SELECT DISTINCT ?uri WHERE {\n",
    "        res:YYYY ZZZZ ?uri .\n",
    "    }\n",
    "    \"\"\"\n",
    "    # Récupération du mot le plus proche par rapport au relation\n",
    "    res = dis(word_tokenize(question))\n",
    "    # si le tableau contien o on remplace les xxxx de la query par une addresse qui fini par ontology\n",
    "    if(res[2] == 'o'):\n",
    "        query = query.replace(\"XXXX\", \"dbo: <http://dbpedia.org/ontology/>\")\n",
    "    # Sinon on récupere l'adresse property\n",
    "    else :\n",
    "        query = query.replace(\"XXXX\", \"dbp: <http://dbpedia.org/property/>\")\n",
    "\n",
    "    # on récupère les entités de chaque question qu'on replace insère dans la requetes\n",
    "    text = nnp_old(question)\n",
    "    query = query.replace(\"YYYY\", text.replace(\" \",\"_\"))\n",
    "    # remplacement des zzzz par la relation pour la question\n",
    "    query = query.replace(\"ZZZZ\", res)\n",
    "    print(query)\n",
    "\n",
    "    sparql.setQuery(query)\n",
    "    return sparql"
   ]
  },
  {
   "cell_type": "code",
   "execution_count": 88,
   "metadata": {},
   "outputs": [],
   "source": [
    "listResponseProject = []\n",
    " # méthode qui permet d'envoyer et de récuperer la réponse de chaque question sur l'api DBPedia   \n",
    "def getResponseProject(request) :\n",
    "    sparql = createQuery(request)\n",
    "\n",
    "    sparql.setReturnFormat(JSON)\n",
    "    results = sparql.query()\n",
    "    #response = results.response.read()\n",
    "\n",
    "    try:\n",
    "        listResponseQuestion = []\n",
    "        ret = sparql.queryAndConvert()\n",
    "        for r in ret[\"results\"][\"bindings\"]:\n",
    "            if(len(r[\"uri\"][\"value\"]) > 1) :\n",
    "                listResponseQuestion.append(r[\"uri\"][\"value\"])\n",
    "    except Exception as e:\n",
    "        print(e)\n",
    "    return listResponseQuestion\n",
    "    "
   ]
  },
  {
   "cell_type": "code",
   "execution_count": 89,
   "metadata": {},
   "outputs": [
    {
     "name": "stdout",
     "output_type": "stream",
     "text": [
      "\n",
      "    PREFIX dbo: <http://dbpedia.org/ontology/>\n",
      "    PREFIX res: <http://dbpedia.org/resource/>\n",
      "    SELECT DISTINCT ?uri WHERE {\n",
      "        res:Brooklyn_Bridge dbo:crosses ?uri .\n",
      "    }\n",
      "    \n",
      "\n",
      "    PREFIX dbp: <http://dbpedia.org/property/>\n",
      "    PREFIX res: <http://dbpedia.org/resource/>\n",
      "    SELECT DISTINCT ?uri WHERE {\n",
      "        res:Wikipedia dbp:authors ?uri .\n",
      "    }\n",
      "    \n",
      "\n",
      "    PREFIX dbo: <http://dbpedia.org/ontology/>\n",
      "    PREFIX res: <http://dbpedia.org/resource/>\n",
      "    SELECT DISTINCT ?uri WHERE {\n",
      "        res:Nile dbo:country ?uri .\n",
      "    }\n",
      "    \n",
      "\n",
      "    PREFIX dbo: <http://dbpedia.org/ontology/>\n",
      "    PREFIX res: <http://dbpedia.org/resource/>\n",
      "    SELECT DISTINCT ?uri WHERE {\n",
      "        res:Karakoram dbo:highest ?uri .\n",
      "    }\n",
      "    \n",
      "\n",
      "    PREFIX dbp: <http://dbpedia.org/property/>\n",
      "    PREFIX res: <http://dbpedia.org/resource/>\n",
      "    SELECT DISTINCT ?uri WHERE {\n",
      "        res:Brooklyn_Bridge dbp:designer ?uri .\n",
      "    }\n",
      "    \n",
      "\n",
      "    PREFIX dbo: <http://dbpedia.org/ontology/>\n",
      "    PREFIX res: <http://dbpedia.org/resource/>\n",
      "    SELECT DISTINCT ?uri WHERE {\n",
      "        res:Goofy dbo:creator ?uri .\n",
      "    }\n",
      "    \n",
      "\n",
      "    PREFIX dbo: <http://dbpedia.org/ontology/>\n",
      "    PREFIX res: <http://dbpedia.org/resource/>\n",
      "    SELECT DISTINCT ?uri WHERE {\n",
      "        res:New_York_City dbo:city ?uri .\n",
      "    }\n",
      "    \n",
      "\n",
      "    PREFIX dbp: <http://dbpedia.org/property/>\n",
      "    PREFIX res: <http://dbpedia.org/resource/>\n",
      "    SELECT DISTINCT ?uri WHERE {\n",
      "        res:Yenisey dbp:source ?uri .\n",
      "    }\n",
      "    \n",
      "\n",
      "    PREFIX dbp: <http://dbpedia.org/property/>\n",
      "    PREFIX res: <http://dbpedia.org/resource/>\n",
      "    SELECT DISTINCT ?uri WHERE {\n",
      "        res:Which_museum_exhibits_The_Scream_by_Munch dbp:museum ?uri .\n",
      "    }\n",
      "    \n",
      "\n",
      "    PREFIX dbp: <http://dbpedia.org/property/>\n",
      "    PREFIX res: <http://dbpedia.org/resource/>\n",
      "    SELECT DISTINCT ?uri WHERE {\n",
      "        res:Illinois dbp:borderingstates ?uri .\n",
      "    }\n",
      "    \n",
      "\n",
      "    PREFIX dbo: <http://dbpedia.org/ontology/>\n",
      "    PREFIX res: <http://dbpedia.org/resource/>\n",
      "    SELECT DISTINCT ?uri WHERE {\n",
      "        res:U.S._president_Lincoln dbo:series ?uri .\n",
      "    }\n",
      "    \n",
      "\n",
      "    PREFIX dbo: <http://dbpedia.org/ontology/>\n",
      "    PREFIX res: <http://dbpedia.org/resource/>\n",
      "    SELECT DISTINCT ?uri WHERE {\n",
      "        res:GIMP dbo:language ?uri .\n",
      "    }\n",
      "    \n",
      "\n",
      "    PREFIX dbo: <http://dbpedia.org/ontology/>\n",
      "    PREFIX res: <http://dbpedia.org/resource/>\n",
      "    SELECT DISTINCT ?uri WHERE {\n",
      "        res:Limerick_Lake dbo:country ?uri .\n",
      "    }\n",
      "    \n",
      "\n",
      "    PREFIX dbo: <http://dbpedia.org/ontology/>\n",
      "    PREFIX res: <http://dbpedia.org/resource/>\n",
      "    SELECT DISTINCT ?uri WHERE {\n",
      "        res:Czech_Republic dbo:currency ?uri .\n",
      "    }\n",
      "    \n",
      "\n",
      "    PREFIX dbo: <http://dbpedia.org/ontology/>\n",
      "    PREFIX res: <http://dbpedia.org/resource/>\n",
      "    SELECT DISTINCT ?uri WHERE {\n",
      "        res:World_of_Warcraft dbo:developer ?uri .\n",
      "    }\n",
      "    \n",
      "\n",
      "    PREFIX dbo: <http://dbpedia.org/ontology/>\n",
      "    PREFIX res: <http://dbpedia.org/resource/>\n",
      "    SELECT DISTINCT ?uri WHERE {\n",
      "        res:Aldi dbo:foundedBy ?uri .\n",
      "    }\n",
      "    \n",
      "\n",
      "    PREFIX dbp: <http://dbpedia.org/property/>\n",
      "    PREFIX res: <http://dbpedia.org/resource/>\n",
      "    SELECT DISTINCT ?uri WHERE {\n",
      "        res:IBM dbp:designer ?uri .\n",
      "    }\n",
      "    \n",
      "\n",
      "    PREFIX dbo: <http://dbpedia.org/ontology/>\n",
      "    PREFIX res: <http://dbpedia.org/resource/>\n",
      "    SELECT DISTINCT ?uri WHERE {\n",
      "        res:Berlin dbo:areaCode ?uri .\n",
      "    }\n",
      "    \n",
      "\n",
      "    PREFIX dbo: <http://dbpedia.org/ontology/>\n",
      "    PREFIX res: <http://dbpedia.org/resource/>\n",
      "    SELECT DISTINCT ?uri WHERE {\n",
      "        res:Battle_of_Gettysburg dbo:battle ?uri .\n",
      "    }\n",
      "    \n",
      "\n",
      "    PREFIX dbo: <http://dbpedia.org/ontology/>\n",
      "    PREFIX res: <http://dbpedia.org/resource/>\n",
      "    SELECT DISTINCT ?uri WHERE {\n",
      "        res:Italy dbo:language ?uri .\n",
      "    }\n",
      "    \n",
      "\n",
      "    PREFIX dbo: <http://dbpedia.org/ontology/>\n",
      "    PREFIX res: <http://dbpedia.org/resource/>\n",
      "    SELECT DISTINCT ?uri WHERE {\n",
      "        res:Pillars_of_the_Earth dbo:officialLanguage ?uri .\n",
      "    }\n",
      "    \n",
      "\n",
      "    PREFIX dbp: <http://dbpedia.org/property/>\n",
      "    PREFIX res: <http://dbpedia.org/resource/>\n",
      "    SELECT DISTINCT ?uri WHERE {\n",
      "        res:WikiLeaks dbp:authors ?uri .\n",
      "    }\n",
      "    \n",
      "\n",
      "    PREFIX dbo: <http://dbpedia.org/ontology/>\n",
      "    PREFIX res: <http://dbpedia.org/resource/>\n",
      "    SELECT DISTINCT ?uri WHERE {\n",
      "        res:Action_Hero dbo:starring ?uri .\n",
      "    }\n",
      "    \n",
      "\n",
      "    PREFIX dbo: <http://dbpedia.org/ontology/>\n",
      "    PREFIX res: <http://dbpedia.org/resource/>\n",
      "    SELECT DISTINCT ?uri WHERE {\n",
      "        res:Universal_Studios_Lot dbo:owner ?uri .\n",
      "    }\n",
      "    \n",
      "\n",
      "    PREFIX dbo: <http://dbpedia.org/ontology/>\n",
      "    PREFIX res: <http://dbpedia.org/resource/>\n",
      "    SELECT DISTINCT ?uri WHERE {\n",
      "        res:Bruce_Carver dbo:producer ?uri .\n",
      "    }\n",
      "    \n"
     ]
    }
   ],
   "source": [
    "# ajout de chaque réponse au question dans un tableau\n",
    "for val in newList:\n",
    "    listResponseProject.append(getResponseProject(val))"
   ]
  },
  {
   "cell_type": "code",
   "execution_count": 95,
   "metadata": {},
   "outputs": [
    {
     "name": "stdout",
     "output_type": "stream",
     "text": [
      "--------------------------------------------------------------------\n",
      "Correct\n",
      "Réponse des questions XML : ['http://dbpedia.org/resource/East_River']\n",
      "Notre réponse : ['http://dbpedia.org/resource/East_River']\n",
      "\n",
      "\n",
      "--------------------------------------------------------------------\n",
      "Fausse\n",
      "Réponse des questions XML : []\n",
      "Notre réponse : ['http://dbpedia.org/resource/Larry_Sanger', 'http://dbpedia.org/resource/Jimmy_Wales']\n",
      "\n",
      "\n",
      "--------------------------------------------------------------------\n",
      "Fausse\n",
      "Réponse des questions XML : ['http://dbpedia.org/resource/Ethiopia', 'http://dbpedia.org/resource/Lake_Tana']\n",
      "Notre réponse : []\n",
      "\n",
      "\n",
      "--------------------------------------------------------------------\n",
      "Correct\n",
      "Réponse des questions XML : ['http://dbpedia.org/resource/K2']\n",
      "Notre réponse : ['http://dbpedia.org/resource/K2']\n",
      "\n",
      "\n",
      "--------------------------------------------------------------------\n",
      "Correct\n",
      "Réponse des questions XML : ['http://dbpedia.org/resource/John_Augustus_Roebling']\n",
      "Notre réponse : ['http://dbpedia.org/resource/John_Augustus_Roebling']\n",
      "\n",
      "\n",
      "--------------------------------------------------------------------\n",
      "Correct\n",
      "Réponse des questions XML : ['http://dbpedia.org/resource/Bob_Ogle', 'http://dbpedia.org/resource/Paul_Murry']\n",
      "Notre réponse : ['http://dbpedia.org/resource/Bob_Ogle', 'http://dbpedia.org/resource/Paul_Murry']\n",
      "\n",
      "\n",
      "--------------------------------------------------------------------\n",
      "Fausse\n",
      "Réponse des questions XML : ['Eric Adams']\n",
      "Notre réponse : []\n",
      "\n",
      "\n",
      "--------------------------------------------------------------------\n",
      "Correct\n",
      "Réponse des questions XML : ['http://dbpedia.org/resource/Ka-Hem', 'The most distant source: Yenisey-Angara-Selenga-Ider system']\n",
      "Notre réponse : ['http://dbpedia.org/resource/Ka-Hem', 'The most distant source: Yenisey-Angara-Selenga-Ider system']\n",
      "\n",
      "\n",
      "--------------------------------------------------------------------\n",
      "Fausse\n",
      "Réponse des questions XML : ['National Gallery and Munch Museum']\n",
      "Notre réponse : []\n",
      "\n",
      "\n",
      "--------------------------------------------------------------------\n",
      "Correct\n",
      "Réponse des questions XML : ['http://dbpedia.org/resource/Kentucky', 'http://dbpedia.org/resource/Iowa', 'http://dbpedia.org/resource/Missouri', 'http://dbpedia.org/resource/Wisconsin', 'http://dbpedia.org/resource/Indiana']\n",
      "Notre réponse : ['http://dbpedia.org/resource/Kentucky', 'http://dbpedia.org/resource/Iowa', 'http://dbpedia.org/resource/Missouri', 'http://dbpedia.org/resource/Wisconsin', 'http://dbpedia.org/resource/Indiana']\n",
      "\n",
      "\n",
      "--------------------------------------------------------------------\n",
      "Fausse\n",
      "Réponse des questions XML : ['http://dbpedia.org/resource/Mary_Todd_Lincoln']\n",
      "Notre réponse : []\n",
      "\n",
      "\n",
      "--------------------------------------------------------------------\n",
      "Fausse\n",
      "Réponse des questions XML : ['http://dbpedia.org/resource/C_(programming_language)']\n",
      "Notre réponse : ['http://dbpedia.org/resource/Amharic', 'http://dbpedia.org/resource/Danish_language', 'http://dbpedia.org/resource/Valencian_language', 'http://dbpedia.org/resource/Vietnamese_language', 'http://dbpedia.org/resource/Azerbaijani_language', 'http://dbpedia.org/resource/Belarusian_language', 'http://dbpedia.org/resource/French_language', 'http://dbpedia.org/resource/Galician_language', 'http://dbpedia.org/resource/Georgian_language', 'http://dbpedia.org/resource/Tamil_language', 'http://dbpedia.org/resource/Tatar_language', 'http://dbpedia.org/resource/Telugu_language', 'http://dbpedia.org/resource/Arabic', 'http://dbpedia.org/resource/Esperanto', 'http://dbpedia.org/resource/Estonian_language', 'http://dbpedia.org/resource/German_language', 'http://dbpedia.org/resource/Marathi_language', 'http://dbpedia.org/resource/Polish_language', 'http://dbpedia.org/resource/Portuguese_language', 'http://dbpedia.org/resource/Thai_language', 'http://dbpedia.org/resource/Ukrainian_language', 'http://dbpedia.org/resource/Bosnian_language', 'http://dbpedia.org/resource/Brazilian_Portuguese', 'http://dbpedia.org/resource/Breton_language', 'http://dbpedia.org/resource/British_English', 'http://dbpedia.org/resource/Japanese_language', 'http://dbpedia.org/resource/Kashubian_language', 'http://dbpedia.org/resource/Kazakh_language', 'http://dbpedia.org/resource/Khmer_language', 'http://dbpedia.org/resource/Nynorsk', 'http://dbpedia.org/resource/Occitan_language', 'http://dbpedia.org/resource/Scottish_Gaelic', 'http://dbpedia.org/resource/Serbian_language', 'http://dbpedia.org/resource/Basque_language', 'http://dbpedia.org/resource/Irish_language', 'http://dbpedia.org/resource/Italian_language', 'http://dbpedia.org/resource/Turkish_language', 'http://dbpedia.org/resource/Bulgarian_language', 'http://dbpedia.org/resource/Burmese_language', 'http://dbpedia.org/resource/Canadian_English', 'http://dbpedia.org/resource/Chinese_language', 'http://dbpedia.org/resource/Swedish_language', 'http://dbpedia.org/resource/Catalan_language', 'http://dbpedia.org/resource/Latvian_language', 'http://dbpedia.org/resource/Dutch_language', 'http://dbpedia.org/resource/Dzongkha', 'http://dbpedia.org/resource/Sinhala_language', 'http://dbpedia.org/resource/Slovak_language', 'http://dbpedia.org/resource/Slovene_language', 'http://dbpedia.org/resource/Sorani', 'http://dbpedia.org/resource/Croatian_language', 'http://dbpedia.org/resource/Czech_language', 'http://dbpedia.org/resource/Greek_language', 'http://dbpedia.org/resource/Gujarati_language', 'http://dbpedia.org/resource/Asturian_language', 'http://dbpedia.org/resource/Hebrew_language', 'http://dbpedia.org/resource/Hindi', 'http://dbpedia.org/resource/Macedonian_language', 'http://dbpedia.org/resource/Malay_language', 'http://dbpedia.org/resource/Malayalam', 'http://dbpedia.org/resource/Finnish_language', 'http://dbpedia.org/resource/Nepali_language', 'http://dbpedia.org/resource/Persian_language', 'http://dbpedia.org/resource/Punjabi_language', 'http://dbpedia.org/resource/Xhosa_language', 'http://dbpedia.org/resource/Kabyle_language', 'http://dbpedia.org/resource/Kannada', 'http://dbpedia.org/resource/Low_German', 'http://dbpedia.org/resource/Spanish_language', 'http://dbpedia.org/resource/Bokmål', 'http://dbpedia.org/resource/Hungarian_language', 'http://dbpedia.org/resource/Icelandic_language', 'http://dbpedia.org/resource/Indonesian_language', 'http://dbpedia.org/resource/Kinyarwanda', 'http://dbpedia.org/resource/Korean_language', 'http://dbpedia.org/resource/Kyrgyz_language', 'http://dbpedia.org/resource/Lithuanian_language', 'http://dbpedia.org/resource/Romanian_language', 'http://dbpedia.org/resource/Russian_language', 'http://dbpedia.org/resource/Yiddish']\n",
      "\n",
      "\n",
      "--------------------------------------------------------------------\n",
      "Correct\n",
      "Réponse des questions XML : ['http://dbpedia.org/resource/Canada']\n",
      "Notre réponse : ['http://dbpedia.org/resource/Canada']\n",
      "\n",
      "\n",
      "--------------------------------------------------------------------\n",
      "Correct\n",
      "Réponse des questions XML : ['http://dbpedia.org/resource/Czech_koruna']\n",
      "Notre réponse : ['http://dbpedia.org/resource/Czech_koruna']\n",
      "\n",
      "\n",
      "--------------------------------------------------------------------\n",
      "Correct\n",
      "Réponse des questions XML : ['http://dbpedia.org/resource/Blizzard_Entertainment']\n",
      "Notre réponse : ['http://dbpedia.org/resource/Blizzard_Entertainment']\n",
      "\n",
      "\n",
      "--------------------------------------------------------------------\n",
      "Correct\n",
      "Réponse des questions XML : ['http://dbpedia.org/resource/Theo_Albrecht', 'http://dbpedia.org/resource/Karl_Albrecht']\n",
      "Notre réponse : ['http://dbpedia.org/resource/Theo_Albrecht', 'http://dbpedia.org/resource/Karl_Albrecht']\n",
      "\n",
      "\n",
      "--------------------------------------------------------------------\n",
      "Correct\n",
      "Réponse des questions XML : []\n",
      "Notre réponse : []\n",
      "\n",
      "\n",
      "--------------------------------------------------------------------\n",
      "Fausse\n",
      "Réponse des questions XML : []\n",
      "Notre réponse : ['030']\n",
      "\n",
      "\n",
      "--------------------------------------------------------------------\n",
      "Correct\n",
      "Réponse des questions XML : []\n",
      "Notre réponse : []\n",
      "\n",
      "\n",
      "--------------------------------------------------------------------\n",
      "Fausse\n",
      "Réponse des questions XML : ['http://dbpedia.org/resource/Italian_language']\n",
      "Notre réponse : ['http://dbpedia.org/resource/Languages_of_Italy']\n",
      "\n",
      "\n",
      "--------------------------------------------------------------------\n",
      "Fausse\n",
      "Réponse des questions XML : ['http://dbpedia.org/resource/Ken_Follett']\n",
      "Notre réponse : []\n",
      "\n",
      "\n",
      "--------------------------------------------------------------------\n",
      "Correct\n",
      "Réponse des questions XML : []\n",
      "Notre réponse : []\n",
      "\n",
      "\n",
      "--------------------------------------------------------------------\n",
      "Fausse\n",
      "Réponse des questions XML : ['http://dbpedia.org/resource/Art_Carney', \"http://dbpedia.org/resource/Austin_O'Brien\", 'http://dbpedia.org/resource/Frank_McRae', 'http://dbpedia.org/resource/Anthony_Quinn', 'http://dbpedia.org/resource/Arnold_Schwarzenegger', 'http://dbpedia.org/resource/Mercedes_Ruehl', 'http://dbpedia.org/resource/Charles_Dance', 'http://dbpedia.org/resource/Robert_Prosky', 'http://dbpedia.org/resource/F._Murray_Abraham', 'http://dbpedia.org/resource/Tom_Noonan']\n",
      "Notre réponse : []\n",
      "\n",
      "\n",
      "--------------------------------------------------------------------\n",
      "Correct\n",
      "Réponse des questions XML : ['http://dbpedia.org/resource/Universal_Pictures', 'http://dbpedia.org/resource/Comcast', 'http://dbpedia.org/resource/NBCUniversal']\n",
      "Notre réponse : ['http://dbpedia.org/resource/Universal_Pictures', 'http://dbpedia.org/resource/Comcast', 'http://dbpedia.org/resource/NBCUniversal']\n",
      "\n",
      "\n",
      "--------------------------------------------------------------------\n",
      "Fausse\n",
      "Réponse des questions XML : ['http://dbpedia.org/resource/Montpelier,_Idaho']\n",
      "Notre réponse : []\n",
      "\n",
      "\n",
      "notation : 14/25\n"
     ]
    }
   ],
   "source": [
    "# Comparaison des réponses entre la réponse des querys déjà préparé et la réponse a nos question\n",
    "\n",
    "nbQuestionsCorrect = 0\n",
    "nbQuestionsFalse = 0\n",
    "\n",
    "for i in range(len(listeResponseQuestionXML)) :\n",
    "    nbGoodAnswer = 0\n",
    "    nbFalseAnswer = 0\n",
    "    if listeResponseQuestionXML[i] == listResponseProject[i] :\n",
    "        nbGoodAnswer += 1\n",
    "        print('--------------------------------------------------------------------')\n",
    "        print('Correct')\n",
    "        print('Réponse des questions XML : ' + str(listeResponseQuestionXML[i]))\n",
    "        print('Notre réponse : ' + str(listResponseProject[i]))\n",
    "    else :\n",
    "        nbFalseAnswer += 1\n",
    "        print('--------------------------------------------------------------------')\n",
    "        print('Fausse')\n",
    "        print('Réponse des questions XML : ' + str(listeResponseQuestionXML[i]))\n",
    "        print('Notre réponse : ' + str(listResponseProject[i]))\n",
    "    print('\\n')\n",
    "    if nbFalseAnswer == 0 and nbGoodAnswer > 0:\n",
    "        nbQuestionsCorrect += 1\n",
    "    else : \n",
    "        nbQuestionsFalse +=1\n",
    "\n",
    "print(f\"notation : {nbQuestionsCorrect}/25\")\n",
    "\n"
   ]
  }
 ],
 "metadata": {
  "kernelspec": {
   "display_name": "Python 3.10.7 64-bit",
   "language": "python",
   "name": "python3"
  },
  "language_info": {
   "codemirror_mode": {
    "name": "ipython",
    "version": 3
   },
   "file_extension": ".py",
   "mimetype": "text/x-python",
   "name": "python",
   "nbconvert_exporter": "python",
   "pygments_lexer": "ipython3",
   "version": "3.10.7"
  },
  "orig_nbformat": 4,
  "vscode": {
   "interpreter": {
    "hash": "c4c9d90dce8b5e371e9b4af0fdc632b6dee0ecca097fec34bb9524179da69c79"
   }
  }
 },
 "nbformat": 4,
 "nbformat_minor": 2
}
